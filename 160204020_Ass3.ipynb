{
  "nbformat": 4,
  "nbformat_minor": 0,
  "metadata": {
    "colab": {
      "name": "160204020.ipynb",
      "provenance": [],
      "collapsed_sections": []
    },
    "kernelspec": {
      "name": "python3",
      "display_name": "Python 3"
    },
    "language_info": {
      "name": "python"
    }
  },
  "cells": [
    {
      "cell_type": "code",
      "metadata": {
        "colab": {
          "base_uri": "https://localhost:8080/"
        },
        "id": "KzvmCgelq-M_",
        "outputId": "5f5cfc71-d1e7-4d1b-e5a0-705551f71411"
      },
      "source": [
        "from google.colab import drive\n",
        "drive.mount('/content/drive')"
      ],
      "execution_count": 454,
      "outputs": [
        {
          "output_type": "stream",
          "name": "stdout",
          "text": [
            "Drive already mounted at /content/drive; to attempt to forcibly remount, call drive.mount(\"/content/drive\", force_remount=True).\n"
          ]
        }
      ]
    },
    {
      "cell_type": "code",
      "metadata": {
        "id": "ee54SFoNaJ0y"
      },
      "source": [
        "import re\n",
        "import numpy as np\n",
        "import pandas as pd\n",
        "from sklearn.model_selection import train_test_split\n",
        "import matplotlib.pyplot as plt\n",
        "import torch\n",
        "from torchtext.legacy import data\n",
        "import random\n",
        "import torch.nn as nn\n",
        "import torch.optim as optim\n",
        "from os.path import exists\n",
        "from nltk.stem.porter import PorterStemmer\n",
        "import torchvision\n",
        "import torchvision.transforms as transforms\n",
        "import nltk\n",
        "from nltk.tokenize import word_tokenize, sent_tokenize\n",
        "from nltk.corpus import stopwords\n",
        "from google_drive_downloader import GoogleDriveDownloader as gdd\n",
        "from torch.utils.data import DataLoader, Dataset\n",
        "from sklearn.feature_extraction.text import CountVectorizer\n",
        "import seaborn as sn\n",
        "from sklearn.metrics import confusion_matrix"
      ],
      "execution_count": 455,
      "outputs": []
    },
    {
      "cell_type": "code",
      "metadata": {
        "id": "N2Cn2nDxvUgn"
      },
      "source": [
        "dataset = pd.read_csv('/content/drive/Shareddrives/Patter assignment/Assignment 3/Dataset/Dataset 3.csv',encoding='latin1')"
      ],
      "execution_count": 456,
      "outputs": []
    },
    {
      "cell_type": "code",
      "metadata": {
        "colab": {
          "base_uri": "https://localhost:8080/"
        },
        "id": "qpG7ze1G1OPG",
        "outputId": "bcb55011-a89a-4953-f201-46984c0ba21e"
      },
      "source": [
        "print(dataset.head())"
      ],
      "execution_count": 457,
      "outputs": [
        {
          "output_type": "stream",
          "name": "stdout",
          "text": [
            "                                              tweets  sentiment\n",
            "0  just had a real good moment. i missssssssss hi...          0\n",
            "1         is reading manga  http://plurk.com/p/mzp1e          0\n",
            "2  @comeagainjen http://twitpic.com/2y2lx - http:...          0\n",
            "3  @lapcat Need to send 'em to my accountant tomo...          0\n",
            "4      ADD ME ON MYSPACE!!!  myspace.com/LookThunder          0\n"
          ]
        }
      ]
    },
    {
      "cell_type": "code",
      "metadata": {
        "colab": {
          "base_uri": "https://localhost:8080/",
          "height": 279
        },
        "id": "mxRJ2iTz3UqM",
        "outputId": "635f6b42-ce89-452d-b9cb-be73330114a5"
      },
      "source": [
        "dataset['sentiment'].value_counts().sort_index().plot.bar()"
      ],
      "execution_count": 458,
      "outputs": [
        {
          "output_type": "execute_result",
          "data": {
            "text/plain": [
              "<matplotlib.axes._subplots.AxesSubplot at 0x7f7bd483ee50>"
            ]
          },
          "metadata": {},
          "execution_count": 458
        },
        {
          "output_type": "display_data",
          "data": {
            "image/png": "[encoded data removed]",
            "text/plain": [
              "<Figure size 432x288 with 1 Axes>"
            ]
          },
          "metadata": {
            "needs_background": "light"
          }
        }
      ]
    },
    {
      "cell_type": "code",
      "metadata": {
        "colab": {
          "base_uri": "https://localhost:8080/"
        },
        "id": "HCQMq7Xp5xuj",
        "outputId": "974a1542-0dca-4439-b7f2-aa44994fb9e4"
      },
      "source": [
        "dataset['tweets'] = dataset['tweets'].str.lower()\n",
        "dataset['tweets'].apply(lambda x: x.lower()) #transform text to lowercase\n",
        "dataset['tweets'] = dataset['tweets'].apply(lambda x: re.sub('[^a-zA-z0-9\\s]', '', x))\n",
        "dataset['tweets'] = dataset['tweets'].apply(lambda x: re.sub('<.*?>', '' , x))\n",
        "dataset['tweets'] = dataset['tweets'].apply(lambda x: re.sub('\\[.*?\\]', '' , x))\n",
        "dataset['tweets'] = dataset['tweets'].apply(lambda x: re.sub('<.*?>+', '' , x))\n",
        "dataset['tweets'] = dataset['tweets'].apply(lambda x: re.sub(r\"http\\S+\", \" \" , x))\n",
        "dataset['tweets'] = dataset['tweets'].apply(lambda x: re.sub(r\"(https?:\\/\\/)(\\s)*(www\\.)?(\\s)*((\\w|\\s)+\\.)*([\\w\\-\\s]+\\/)*([\\w\\-]+)((\\?)?[\\w\\s]*=\\s*[\\w\\%&]*)*\", \" \" , x))\n",
        "dataset['tweets'] = dataset['tweets'].apply(lambda x: re.sub(r\"http\\S+\", \" \" , x))\n",
        "dataset['tweets'] = dataset['tweets'].apply(lambda x: re.sub('\\n', '', x))\n",
        "dataset['tweets'] = dataset['tweets'].apply(lambda x: re.sub('\\w*\\d\\w*', '', x))\n",
        "dataset['tweets'] = dataset['tweets'].apply(lambda x: re.sub(r'^https?:\\/\\/.*[\\r\\n]*', '', x,flags=re.MULTILINE))\n",
        "dataset['tweets'] = dataset['tweets'].apply(lambda x: re.sub(r\"[,.\\\"!@#$%^&*(){}?/;`~:<>+=-]\", '', x,flags=re.MULTILINE))\n",
        "dataset['tweets'].head()"
      ],
      "execution_count": 459,
      "outputs": [
        {
          "output_type": "execute_result",
          "data": {
            "text/plain": [
              "0    just had a real good moment i missssssssss him...\n",
              "1                                  is reading manga   \n",
              "2                                   comeagainjen      \n",
              "3    lapcat need to send em to my accountant tomorr...\n",
              "4             add me on myspace  myspacecomlookthunder\n",
              "Name: tweets, dtype: object"
            ]
          },
          "metadata": {},
          "execution_count": 459
        }
      ]
    },
    {
      "cell_type": "code",
      "metadata": {
        "id": "NBq2VDnWwBIa"
      },
      "source": [
        "n = len(dataset) \n",
        "TEST_SIZE = 0.2\n",
        "n_test = int(TEST_SIZE * n) \n",
        "trainDataset, testDataSet = train_test_split(dataset, test_size=0.2, random_state=42) #random split dataset\n"
      ],
      "execution_count": 460,
      "outputs": []
    },
    {
      "cell_type": "code",
      "metadata": {
        "colab": {
          "base_uri": "https://localhost:8080/"
        },
        "id": "T3A-LMD800M8",
        "outputId": "9ab90aa0-b180-4f06-d141-e9d519c8aee3"
      },
      "source": [
        "print(f'Number of training examples: {len(trainDataset)}')\n",
        "print(f'Number of testing examples: {len(testDataSet)}')"
      ],
      "execution_count": 461,
      "outputs": [
        {
          "output_type": "stream",
          "name": "stdout",
          "text": [
            "Number of training examples: 8251\n",
            "Number of testing examples: 2063\n"
          ]
        }
      ]
    },
    {
      "cell_type": "code",
      "metadata": {
        "colab": {
          "base_uri": "https://localhost:8080/"
        },
        "id": "i7aN_r_gIXFY",
        "outputId": "a8350c0a-866c-46d9-fcc9-b9ef34dc355e"
      },
      "source": [
        "nltk.download('stopwords')\n",
        "english_stops = set(stopwords.words('english'))"
      ],
      "execution_count": 462,
      "outputs": [
        {
          "output_type": "stream",
          "name": "stdout",
          "text": [
            "[nltk_data] Downloading package stopwords to /root/nltk_data...\n",
            "[nltk_data]   Package stopwords is already up-to-date!\n"
          ]
        }
      ]
    },
    {
      "cell_type": "code",
      "metadata": {
        "id": "-fsp1Uo-M61J"
      },
      "source": [
        "\n",
        "class Sequences(Dataset):\n",
        "    def __init__(self, data):\n",
        "        self.vectorizer = CountVectorizer(stop_words='english')\n",
        "        self.sequences = self.vectorizer.fit_transform(dataset.tweets.tolist())\n",
        "        self.labels = dataset.sentiment.tolist()\n",
        "        self.token2idx = self.vectorizer.vocabulary_\n",
        "        self.idx2token = {idx: token for token, idx in self.token2idx.items()}\n",
        "    def __getitem__(self, i):\n",
        "        return self.sequences[i, :].toarray(), self.labels[i]\n",
        "    \n",
        "    def __len__(self):\n",
        "        return self.sequences.shape[0]"
      ],
      "execution_count": 463,
      "outputs": []
    },
    {
      "cell_type": "code",
      "metadata": {
        "colab": {
          "base_uri": "https://localhost:8080/"
        },
        "id": "IUjnDhdIOFgQ",
        "outputId": "6bc9643e-204e-4fd3-ed7f-a2bb71ba29c6"
      },
      "source": [
        "device = torch.device('cpu')\n",
        "device"
      ],
      "execution_count": 464,
      "outputs": [
        {
          "output_type": "execute_result",
          "data": {
            "text/plain": [
              "device(type='cpu')"
            ]
          },
          "metadata": {},
          "execution_count": 464
        }
      ]
    },
    {
      "cell_type": "code",
      "metadata": {
        "id": "1VzlcEYehnu_"
      },
      "source": [
        "sequence_length = 28\n",
        "hidden_size = 256\n",
        "num_layers = 4\n",
        "num_classes = 1\n",
        "batch_sizeRNN = 100\n",
        "num_epochs = 2\n",
        "learning_rate = 0.02"
      ],
      "execution_count": 465,
      "outputs": []
    },
    {
      "cell_type": "code",
      "metadata": {
        "colab": {
          "base_uri": "https://localhost:8080/"
        },
        "id": "_-XJXH6Bm702",
        "outputId": "be55d2d0-ccb8-4bdd-eb1c-9f03d9407602"
      },
      "source": [
        "trainDataset = Sequences(trainDataset)\n",
        "trainLoader = DataLoader(trainDataset, batch_size=900)\n",
        "print(len(trainLoader))\n"
      ],
      "execution_count": 466,
      "outputs": [
        {
          "output_type": "stream",
          "name": "stdout",
          "text": [
            "12\n"
          ]
        }
      ]
    },
    {
      "cell_type": "code",
      "metadata": {
        "id": "rzRFHcS-hYL2"
      },
      "source": [
        "class RNN(nn.Module):\n",
        "    def __init__(self, input_size, hidden_size, num_layers, num_classes):\n",
        "        super(RNN, self).__init__()\n",
        "        self.hidden_size = hidden_size\n",
        "        self.num_layers = num_layers\n",
        "        self.rnn = nn.RNN(input_size, hidden_size, num_layers, batch_first=True,bidirectional=True)\n",
        "        self.fc = nn.Linear(hidden_size*2, num_classes)\n",
        "    \n",
        "    def forward(self, x):\n",
        "        h0 = torch.zeros(self.num_layers*2, x.size(0), self.hidden_size).to(device)\n",
        "        out, _ = self.rnn(x, h0)  # out: tensor of shape (batch_size, seq_length, hidden_size)\n",
        "        out = self.fc(out[:, -1, :])\n",
        "        return out"
      ],
      "execution_count": 467,
      "outputs": []
    },
    {
      "cell_type": "code",
      "metadata": {
        "colab": {
          "base_uri": "https://localhost:8080/"
        },
        "id": "E9Y7dKbcnwfE",
        "outputId": "c03e1680-b3d7-4b5d-afb3-0168fa2c3cc6"
      },
      "source": [
        "model = RNN(len(trainDataset.token2idx), hidden_size, num_layers,num_classes)\n",
        "model.to(device)"
      ],
      "execution_count": 468,
      "outputs": [
        {
          "output_type": "execute_result",
          "data": {
            "text/plain": [
              "RNN(\n",
              "  (rnn): RNN(20467, 256, num_layers=4, batch_first=True, bidirectional=True)\n",
              "  (fc): Linear(in_features=512, out_features=1, bias=True)\n",
              ")"
            ]
          },
          "metadata": {},
          "execution_count": 468
        }
      ]
    },
    {
      "cell_type": "code",
      "metadata": {
        "id": "InQjAjSMQki4"
      },
      "source": [
        "criterion = nn.BCEWithLogitsLoss()\n",
        "optimizer = torch.optim.Adam(model.parameters(), lr=learning_rate)"
      ],
      "execution_count": 469,
      "outputs": []
    },
    {
      "cell_type": "code",
      "metadata": {
        "colab": {
          "base_uri": "https://localhost:8080/"
        },
        "id": "FLWVfvd8q0lc",
        "outputId": "78232ba4-7fe4-4f25-db48-3d7ef9559e0e"
      },
      "source": [
        "train_losses = []\n",
        "train_acc = []\n",
        "total_step = 8251\n",
        "for epoch in range(70):\n",
        "    losses = []\n",
        "    total = 0\n",
        "    for inputs, target in trainLoader:\n",
        "        \n",
        "        inputs=inputs.float()\n",
        "        inputs=inputs.to(device)\n",
        "        targets=target.float()\n",
        "        target=targets.to(device)\n",
        "        model.zero_grad()      \n",
        "        output = model(inputs)\n",
        "        loss = criterion(output.squeeze(), target) \n",
        "        rounded_preds = torch.round(torch.sigmoid(output.squeeze()))\n",
        "        correct = (rounded_preds == target).float() #convert into float for division \n",
        "        acc = correct.sum() / len(correct)\n",
        "        loss.backward()\n",
        "        optimizer.step()\n",
        "        losses.append(loss.item())\n",
        "        total += 1\n",
        "        \n",
        "    epoch_loss = sum(losses) / total\n",
        "    train_losses.append(epoch_loss)\n",
        "    train_acc.append(acc)\n",
        "        \n",
        "    print(f'Epoch #{epoch + 1}\\tTrain Loss: {epoch_loss:.10f}\\tTrain Accurecy: {acc*100:.10f}')  \n",
        "    "
      ],
      "execution_count": 470,
      "outputs": [
        {
          "output_type": "stream",
          "name": "stdout",
          "text": [
            "Epoch #1\tTrain Loss: 0.7047823510\tTrain Accurecy: 100.0000000000\n",
            "Epoch #2\tTrain Loss: 6.5885947967\tTrain Accurecy: 95.8937225342\n",
            "Epoch #3\tTrain Loss: 6.3440540653\tTrain Accurecy: 0.2415458858\n",
            "Epoch #4\tTrain Loss: 0.3138124348\tTrain Accurecy: 99.7584533691\n",
            "Epoch #5\tTrain Loss: 4.8086911834\tTrain Accurecy: 0.2415458858\n",
            "Epoch #6\tTrain Loss: 1.3600446813\tTrain Accurecy: 10.8695650101\n",
            "Epoch #7\tTrain Loss: 3.6503253630\tTrain Accurecy: 2.4154589176\n",
            "Epoch #8\tTrain Loss: 1.4859072248\tTrain Accurecy: 25.3623180389\n",
            "Epoch #9\tTrain Loss: 1.8141660209\tTrain Accurecy: 39.1304359436\n",
            "Epoch #10\tTrain Loss: 0.8555981986\tTrain Accurecy: 94.9275360107\n",
            "Epoch #11\tTrain Loss: 0.3864816083\tTrain Accurecy: 98.5507278442\n",
            "Epoch #12\tTrain Loss: 0.4645404226\tTrain Accurecy: 94.2028961182\n",
            "Epoch #13\tTrain Loss: 0.2005963271\tTrain Accurecy: 89.8550720215\n",
            "Epoch #14\tTrain Loss: 0.1866694960\tTrain Accurecy: 96.8599014282\n",
            "Epoch #15\tTrain Loss: 0.1357003554\tTrain Accurecy: 96.1352615356\n",
            "Epoch #16\tTrain Loss: 0.1259453078\tTrain Accurecy: 97.8260879517\n",
            "Epoch #17\tTrain Loss: 0.1139116118\tTrain Accurecy: 98.0676345825\n",
            "Epoch #18\tTrain Loss: 0.1111013186\tTrain Accurecy: 98.5507278442\n",
            "Epoch #19\tTrain Loss: 0.1003819611\tTrain Accurecy: 98.5507278442\n",
            "Epoch #20\tTrain Loss: 0.0970695303\tTrain Accurecy: 98.3091735840\n",
            "Epoch #21\tTrain Loss: 0.0936512795\tTrain Accurecy: 98.3091735840\n",
            "Epoch #22\tTrain Loss: 0.0946560505\tTrain Accurecy: 98.5507278442\n",
            "Epoch #23\tTrain Loss: 0.0917243416\tTrain Accurecy: 98.5507278442\n",
            "Epoch #24\tTrain Loss: 0.0918562574\tTrain Accurecy: 98.7922744751\n",
            "Epoch #25\tTrain Loss: 0.0905495773\tTrain Accurecy: 98.7922744751\n",
            "Epoch #26\tTrain Loss: 0.0904245372\tTrain Accurecy: 98.7922744751\n",
            "Epoch #27\tTrain Loss: 0.0881224872\tTrain Accurecy: 98.7922744751\n",
            "Epoch #28\tTrain Loss: 0.0870028050\tTrain Accurecy: 98.7922744751\n",
            "Epoch #29\tTrain Loss: 0.0858554339\tTrain Accurecy: 98.7922744751\n",
            "Epoch #30\tTrain Loss: 0.0851625423\tTrain Accurecy: 98.7922744751\n",
            "Epoch #31\tTrain Loss: 0.0852842522\tTrain Accurecy: 98.7922744751\n",
            "Epoch #32\tTrain Loss: 0.0833994552\tTrain Accurecy: 98.7922744751\n",
            "Epoch #33\tTrain Loss: 0.0837578454\tTrain Accurecy: 98.7922744751\n",
            "Epoch #34\tTrain Loss: 0.0834704102\tTrain Accurecy: 98.7922744751\n",
            "Epoch #35\tTrain Loss: 0.0846835254\tTrain Accurecy: 98.7922744751\n",
            "Epoch #36\tTrain Loss: 0.0819761096\tTrain Accurecy: 98.7922744751\n",
            "Epoch #37\tTrain Loss: 0.0821546996\tTrain Accurecy: 98.7922744751\n",
            "Epoch #38\tTrain Loss: 0.0811220785\tTrain Accurecy: 98.7922744751\n",
            "Epoch #39\tTrain Loss: 0.0813092773\tTrain Accurecy: 98.7922744751\n",
            "Epoch #40\tTrain Loss: 0.0801356542\tTrain Accurecy: 98.7922744751\n",
            "Epoch #41\tTrain Loss: 0.0826383548\tTrain Accurecy: 98.7922744751\n",
            "Epoch #42\tTrain Loss: 0.0798656434\tTrain Accurecy: 98.7922744751\n",
            "Epoch #43\tTrain Loss: 0.0801371067\tTrain Accurecy: 98.7922744751\n",
            "Epoch #44\tTrain Loss: 0.0796378568\tTrain Accurecy: 98.7922744751\n",
            "Epoch #45\tTrain Loss: 0.0794127116\tTrain Accurecy: 98.7922744751\n",
            "Epoch #46\tTrain Loss: 0.0776188718\tTrain Accurecy: 98.7922744751\n",
            "Epoch #47\tTrain Loss: 0.0761266036\tTrain Accurecy: 98.7922744751\n",
            "Epoch #48\tTrain Loss: 0.0737009606\tTrain Accurecy: 98.7922744751\n",
            "Epoch #49\tTrain Loss: 0.0736189806\tTrain Accurecy: 98.7922744751\n",
            "Epoch #50\tTrain Loss: 0.0695693749\tTrain Accurecy: 98.7922744751\n",
            "Epoch #51\tTrain Loss: 0.0713051762\tTrain Accurecy: 98.7922744751\n",
            "Epoch #52\tTrain Loss: 0.0663943120\tTrain Accurecy: 98.7922744751\n",
            "Epoch #53\tTrain Loss: 0.0661181461\tTrain Accurecy: 98.7922744751\n",
            "Epoch #54\tTrain Loss: 0.0597365800\tTrain Accurecy: 98.7922744751\n",
            "Epoch #55\tTrain Loss: 0.0562135387\tTrain Accurecy: 98.7922744751\n",
            "Epoch #56\tTrain Loss: 0.0527179842\tTrain Accurecy: 99.0338134766\n",
            "Epoch #57\tTrain Loss: 0.0519577321\tTrain Accurecy: 99.0338134766\n",
            "Epoch #58\tTrain Loss: 0.0505153396\tTrain Accurecy: 99.0338134766\n",
            "Epoch #59\tTrain Loss: 0.0475873510\tTrain Accurecy: 99.0338134766\n",
            "Epoch #60\tTrain Loss: 0.0452404838\tTrain Accurecy: 99.0338134766\n",
            "Epoch #61\tTrain Loss: 0.0443617622\tTrain Accurecy: 99.0338134766\n",
            "Epoch #62\tTrain Loss: 0.0413562662\tTrain Accurecy: 98.7922744751\n",
            "Epoch #63\tTrain Loss: 0.0435535489\tTrain Accurecy: 99.0338134766\n",
            "Epoch #64\tTrain Loss: 0.0360853774\tTrain Accurecy: 99.0338134766\n",
            "Epoch #65\tTrain Loss: 0.0366316523\tTrain Accurecy: 98.7922744751\n",
            "Epoch #66\tTrain Loss: 0.0347283233\tTrain Accurecy: 98.7922744751\n",
            "Epoch #67\tTrain Loss: 0.0282546383\tTrain Accurecy: 99.0338134766\n",
            "Epoch #68\tTrain Loss: 0.0287231569\tTrain Accurecy: 98.7922744751\n",
            "Epoch #69\tTrain Loss: 0.0246717714\tTrain Accurecy: 99.0338134766\n",
            "Epoch #70\tTrain Loss: 0.0239457591\tTrain Accurecy: 99.0338134766\n"
          ]
        }
      ]
    },
    {
      "cell_type": "code",
      "metadata": {
        "id": "uA_Ogu4yKvPN",
        "colab": {
          "base_uri": "https://localhost:8080/"
        },
        "outputId": "2644e25d-fc19-40b9-bedf-f32942a88ce9"
      },
      "source": [
        "testDataset = Sequences(testDataSet)\n",
        "testLoader = DataLoader(testDataset, batch_size=900)\n",
        "test_losses=[]\n",
        "test_acc=[]\n",
        "sentiment_texts = []\n",
        "predictions = []\n",
        "prediction_probs = []\n",
        "groundTruth_values = []\n",
        "for epoch in range(70): \n",
        "  epoch_loss = 0\n",
        "  epoch_acc = 0\n",
        "  model.eval()    \n",
        "  with torch.no_grad():\n",
        "      for inputs, target in testLoader:\n",
        "          texts = testDataSet[\"tweets\"]\n",
        "          inputs=inputs.float()\n",
        "          inputs=inputs.to(device)\n",
        "          targets=target.float()\n",
        "          target=targets.to(device)\n",
        "          outputPred = model(inputs)\n",
        "          _, preds = torch.max(outputPred, dim=1)  \n",
        "          tloss = criterion(outputPred.squeeze(), target)\n",
        "          rounded_preds = torch.round(torch.sigmoid(outputPred.squeeze()))\n",
        "          correct = (rounded_preds == target).float() #convert into float for division \n",
        "          tacc = correct.sum() / len(correct)\n",
        "          sentiment_texts.extend(texts)\n",
        "          predictions.extend(preds)\n",
        "          prediction_probs.extend(outputPred)\n",
        "          groundTruth_values.extend(targets)\n",
        "          epoch_loss += tloss.item()\n",
        "          epoch_acc += tacc.item()\n",
        " \n",
        "  epoch_loss=epoch_loss/len(testLoader)\n",
        "  epoch_acc=epoch_acc/len(testLoader)\n",
        "  test_losses.append(epoch_loss)\n",
        "  test_acc.append(epoch_acc)\n",
        "        \n",
        "  print(f'Epoch #{epoch + 1}\\tTest Loss: {epoch_loss:.10f}\\tTest Accurecy: {epoch_acc*100:.10f}')"
      ],
      "execution_count": 471,
      "outputs": [
        {
          "output_type": "stream",
          "name": "stdout",
          "text": [
            "Epoch #1\tTest Loss: 0.0229551542\tTest Accurecy: 99.4102249543\n",
            "Epoch #2\tTest Loss: 0.0229551542\tTest Accurecy: 99.4102249543\n",
            "Epoch #3\tTest Loss: 0.0229551542\tTest Accurecy: 99.4102249543\n",
            "Epoch #4\tTest Loss: 0.0229551542\tTest Accurecy: 99.4102249543\n",
            "Epoch #5\tTest Loss: 0.0229551542\tTest Accurecy: 99.4102249543\n",
            "Epoch #6\tTest Loss: 0.0229551542\tTest Accurecy: 99.4102249543\n",
            "Epoch #7\tTest Loss: 0.0229551542\tTest Accurecy: 99.4102249543\n",
            "Epoch #8\tTest Loss: 0.0229551542\tTest Accurecy: 99.4102249543\n",
            "Epoch #9\tTest Loss: 0.0229551542\tTest Accurecy: 99.4102249543\n",
            "Epoch #10\tTest Loss: 0.0229551542\tTest Accurecy: 99.4102249543\n",
            "Epoch #11\tTest Loss: 0.0229551542\tTest Accurecy: 99.4102249543\n",
            "Epoch #12\tTest Loss: 0.0229551542\tTest Accurecy: 99.4102249543\n",
            "Epoch #13\tTest Loss: 0.0229551542\tTest Accurecy: 99.4102249543\n",
            "Epoch #14\tTest Loss: 0.0229551542\tTest Accurecy: 99.4102249543\n",
            "Epoch #15\tTest Loss: 0.0229551542\tTest Accurecy: 99.4102249543\n",
            "Epoch #16\tTest Loss: 0.0229551542\tTest Accurecy: 99.4102249543\n",
            "Epoch #17\tTest Loss: 0.0229551542\tTest Accurecy: 99.4102249543\n",
            "Epoch #18\tTest Loss: 0.0229551542\tTest Accurecy: 99.4102249543\n",
            "Epoch #19\tTest Loss: 0.0229551542\tTest Accurecy: 99.4102249543\n",
            "Epoch #20\tTest Loss: 0.0229551542\tTest Accurecy: 99.4102249543\n",
            "Epoch #21\tTest Loss: 0.0229551542\tTest Accurecy: 99.4102249543\n",
            "Epoch #22\tTest Loss: 0.0229551542\tTest Accurecy: 99.4102249543\n",
            "Epoch #23\tTest Loss: 0.0229551542\tTest Accurecy: 99.4102249543\n",
            "Epoch #24\tTest Loss: 0.0229551542\tTest Accurecy: 99.4102249543\n",
            "Epoch #25\tTest Loss: 0.0229551542\tTest Accurecy: 99.4102249543\n",
            "Epoch #26\tTest Loss: 0.0229551542\tTest Accurecy: 99.4102249543\n",
            "Epoch #27\tTest Loss: 0.0229551542\tTest Accurecy: 99.4102249543\n",
            "Epoch #28\tTest Loss: 0.0229551542\tTest Accurecy: 99.4102249543\n",
            "Epoch #29\tTest Loss: 0.0229551542\tTest Accurecy: 99.4102249543\n",
            "Epoch #30\tTest Loss: 0.0229551542\tTest Accurecy: 99.4102249543\n",
            "Epoch #31\tTest Loss: 0.0229551542\tTest Accurecy: 99.4102249543\n",
            "Epoch #32\tTest Loss: 0.0229551542\tTest Accurecy: 99.4102249543\n",
            "Epoch #33\tTest Loss: 0.0229551542\tTest Accurecy: 99.4102249543\n",
            "Epoch #34\tTest Loss: 0.0229551542\tTest Accurecy: 99.4102249543\n",
            "Epoch #35\tTest Loss: 0.0229551542\tTest Accurecy: 99.4102249543\n",
            "Epoch #36\tTest Loss: 0.0229551542\tTest Accurecy: 99.4102249543\n",
            "Epoch #37\tTest Loss: 0.0229551542\tTest Accurecy: 99.4102249543\n",
            "Epoch #38\tTest Loss: 0.0229551542\tTest Accurecy: 99.4102249543\n",
            "Epoch #39\tTest Loss: 0.0229551542\tTest Accurecy: 99.4102249543\n",
            "Epoch #40\tTest Loss: 0.0229551542\tTest Accurecy: 99.4102249543\n",
            "Epoch #41\tTest Loss: 0.0229551542\tTest Accurecy: 99.4102249543\n",
            "Epoch #42\tTest Loss: 0.0229551542\tTest Accurecy: 99.4102249543\n",
            "Epoch #43\tTest Loss: 0.0229551542\tTest Accurecy: 99.4102249543\n",
            "Epoch #44\tTest Loss: 0.0229551542\tTest Accurecy: 99.4102249543\n",
            "Epoch #45\tTest Loss: 0.0229551542\tTest Accurecy: 99.4102249543\n",
            "Epoch #46\tTest Loss: 0.0229551542\tTest Accurecy: 99.4102249543\n",
            "Epoch #47\tTest Loss: 0.0229551542\tTest Accurecy: 99.4102249543\n",
            "Epoch #48\tTest Loss: 0.0229551542\tTest Accurecy: 99.4102249543\n",
            "Epoch #49\tTest Loss: 0.0229551542\tTest Accurecy: 99.4102249543\n",
            "Epoch #50\tTest Loss: 0.0229551542\tTest Accurecy: 99.4102249543\n",
            "Epoch #51\tTest Loss: 0.0229551542\tTest Accurecy: 99.4102249543\n",
            "Epoch #52\tTest Loss: 0.0229551542\tTest Accurecy: 99.4102249543\n",
            "Epoch #53\tTest Loss: 0.0229551542\tTest Accurecy: 99.4102249543\n",
            "Epoch #54\tTest Loss: 0.0229551542\tTest Accurecy: 99.4102249543\n",
            "Epoch #55\tTest Loss: 0.0229551542\tTest Accurecy: 99.4102249543\n",
            "Epoch #56\tTest Loss: 0.0229551542\tTest Accurecy: 99.4102249543\n",
            "Epoch #57\tTest Loss: 0.0229551542\tTest Accurecy: 99.4102249543\n",
            "Epoch #58\tTest Loss: 0.0229551542\tTest Accurecy: 99.4102249543\n",
            "Epoch #59\tTest Loss: 0.0229551542\tTest Accurecy: 99.4102249543\n",
            "Epoch #60\tTest Loss: 0.0229551542\tTest Accurecy: 99.4102249543\n",
            "Epoch #61\tTest Loss: 0.0229551542\tTest Accurecy: 99.4102249543\n",
            "Epoch #62\tTest Loss: 0.0229551542\tTest Accurecy: 99.4102249543\n",
            "Epoch #63\tTest Loss: 0.0229551542\tTest Accurecy: 99.4102249543\n",
            "Epoch #64\tTest Loss: 0.0229551542\tTest Accurecy: 99.4102249543\n",
            "Epoch #65\tTest Loss: 0.0229551542\tTest Accurecy: 99.4102249543\n",
            "Epoch #66\tTest Loss: 0.0229551542\tTest Accurecy: 99.4102249543\n",
            "Epoch #67\tTest Loss: 0.0229551542\tTest Accurecy: 99.4102249543\n",
            "Epoch #68\tTest Loss: 0.0229551542\tTest Accurecy: 99.4102249543\n",
            "Epoch #69\tTest Loss: 0.0229551542\tTest Accurecy: 99.4102249543\n",
            "Epoch #70\tTest Loss: 0.0229551542\tTest Accurecy: 99.4102249543\n"
          ]
        }
      ]
    },
    {
      "cell_type": "code",
      "metadata": {
        "id": "mhwGE9HlKNrD",
        "colab": {
          "base_uri": "https://localhost:8080/",
          "height": 573
        },
        "outputId": "41070e6b-2861-45ef-b13d-6ec8c2b6d477"
      },
      "source": [
        "plt.plot(train_acc)\n",
        "plt.plot(test_acc)\n",
        "plt.title('model accuracy')\n",
        "plt.ylabel('accuracy')\n",
        "plt.xlabel('epoch')\n",
        "plt.legend(['train', 'test'], loc='upper left')\n",
        "plt.show()\n",
        "# summarize history for loss\n",
        "plt.plot(train_losses)\n",
        "plt.plot(test_losses)\n",
        "plt.title('model loss')\n",
        "plt.ylabel('loss')\n",
        "plt.xlabel('epoch')\n",
        "plt.legend(['train', 'test'], loc='upper left')\n",
        "plt.show()"
      ],
      "execution_count": 472,
      "outputs": [
        {
          "output_type": "display_data",
          "data": {
            "image/png": "[encoded data removed]",
            "text/plain": [
              "<Figure size 432x288 with 1 Axes>"
            ]
          },
          "metadata": {
            "needs_background": "light"
          }
        },
        {
          "output_type": "display_data",
          "data": {
            "image/png": "[encoded data removed]",
            "text/plain": [
              "<Figure size 432x288 with 1 Axes>"
            ]
          },
          "metadata": {
            "needs_background": "light"
          }
        }
      ]
    },
    {
      "cell_type": "code",
      "metadata": {
        "id": "FEJQf1l-YC59",
        "colab": {
          "base_uri": "https://localhost:8080/",
          "height": 540
        },
        "outputId": "3a9fc97d-fa87-4f5e-fffc-00883087c7dd"
      },
      "source": [
        "from sklearn.metrics import classification_report\n",
        "conf=confusion_matrix(groundTruth_values,predictions)\n",
        "sn.heatmap(conf, cmap=\"Greens\", annot=True)# font size\n",
        "print(\"confusion_matrix\\n\")\n",
        "print(conf)\n",
        "evaluation=classification_report(groundTruth_values,predictions)\n",
        "print(evaluation)"
      ],
      "execution_count": 480,
      "outputs": [
        {
          "output_type": "stream",
          "name": "stdout",
          "text": [
            "confusion_matrix\n",
            "\n",
            "[[560000      0]\n",
            " [161980      0]]\n"
          ]
        },
        {
          "output_type": "stream",
          "name": "stderr",
          "text": [
            "/usr/local/lib/python3.7/dist-packages/sklearn/metrics/_classification.py:1272: UndefinedMetricWarning: Precision and F-score are ill-defined and being set to 0.0 in labels with no predicted samples. Use `zero_division` parameter to control this behavior.\n",
            "  _warn_prf(average, modifier, msg_start, len(result))\n"
          ]
        },
        {
          "output_type": "stream",
          "name": "stdout",
          "text": [
            "              precision    recall  f1-score   support\n",
            "\n",
            "         0.0       0.78      1.00      0.87    560000\n",
            "         1.0       0.00      0.00      0.00    161980\n",
            "\n",
            "    accuracy                           0.78    721980\n",
            "   macro avg       0.39      0.50      0.44    721980\n",
            "weighted avg       0.60      0.78      0.68    721980\n",
            "\n"
          ]
        },
        {
          "output_type": "display_data",
          "data": {
            "image/png": "[encoded data removed]",
            "text/plain": [
              "<Figure size 432x288 with 2 Axes>"
            ]
          },
          "metadata": {
            "needs_background": "light"
          }
        }
      ]
    },
    {
      "cell_type": "code",
      "metadata": {
        "id": "3NdzlJgvBa3L",
        "colab": {
          "base_uri": "https://localhost:8080/"
        },
        "outputId": "6816d5eb-ac49-4f35-abd3-775f0eb97845"
      },
      "source": [
        "from sklearn.metrics import f1_score\n",
        "f1_score(groundTruth_values, predictions, average='micro')"
      ],
      "execution_count": 482,
      "outputs": [
        {
          "output_type": "execute_result",
          "data": {
            "text/plain": [
              "0.7756447547023463"
            ]
          },
          "metadata": {},
          "execution_count": 482
        }
      ]
    },
    {
      "cell_type": "code",
      "metadata": {
        "id": "Ifbme4LxBzRr",
        "colab": {
          "base_uri": "https://localhost:8080/"
        },
        "outputId": "6a77daa2-91de-4f44-9a41-3876d225e605"
      },
      "source": [
        "from sklearn.metrics import precision_score\n",
        "precision_score(groundTruth_values, predictions, average='micro')"
      ],
      "execution_count": 483,
      "outputs": [
        {
          "output_type": "execute_result",
          "data": {
            "text/plain": [
              "0.7756447547023463"
            ]
          },
          "metadata": {},
          "execution_count": 483
        }
      ]
    }
  ]
}